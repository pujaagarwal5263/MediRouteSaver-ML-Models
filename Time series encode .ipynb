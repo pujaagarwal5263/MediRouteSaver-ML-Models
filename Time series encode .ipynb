{
 "cells": [
  {
   "cell_type": "code",
   "execution_count": 1,
   "id": "53101b65",
   "metadata": {},
   "outputs": [],
   "source": [
    "import pandas as pd  \n",
    "from sklearn.neighbors import KNeighborsClassifier"
   ]
  },
  {
   "cell_type": "code",
   "execution_count": 3,
   "id": "949cc768",
   "metadata": {},
   "outputs": [],
   "source": [
    "df=pd.read_csv('Path sample gen.xlsx - Vehicle Routes.csv')"
   ]
  },
  {
   "cell_type": "code",
   "execution_count": 4,
   "id": "2738bd02",
   "metadata": {},
   "outputs": [
    {
     "data": {
      "text/html": [
       "<div>\n",
       "<style scoped>\n",
       "    .dataframe tbody tr th:only-of-type {\n",
       "        vertical-align: middle;\n",
       "    }\n",
       "\n",
       "    .dataframe tbody tr th {\n",
       "        vertical-align: top;\n",
       "    }\n",
       "\n",
       "    .dataframe thead th {\n",
       "        text-align: right;\n",
       "    }\n",
       "</style>\n",
       "<table border=\"1\" class=\"dataframe\">\n",
       "  <thead>\n",
       "    <tr style=\"text-align: right;\">\n",
       "      <th></th>\n",
       "      <th>Index</th>\n",
       "      <th>Route ID</th>\n",
       "      <th>Target Time</th>\n",
       "      <th>Time to Next Stop</th>\n",
       "      <th>Stop</th>\n",
       "      <th>Postcode</th>\n",
       "    </tr>\n",
       "  </thead>\n",
       "  <tbody>\n",
       "    <tr>\n",
       "      <th>0</th>\n",
       "      <td>1</td>\n",
       "      <td>RTE01</td>\n",
       "      <td>17:15</td>\n",
       "      <td>0:15</td>\n",
       "      <td>SGH Pathology Lab</td>\n",
       "      <td>SO16 6YD</td>\n",
       "    </tr>\n",
       "    <tr>\n",
       "      <th>1</th>\n",
       "      <td>2</td>\n",
       "      <td>RTE01</td>\n",
       "      <td>17:30</td>\n",
       "      <td>0:20</td>\n",
       "      <td>Surgery 61</td>\n",
       "      <td>SO40 3JD</td>\n",
       "    </tr>\n",
       "    <tr>\n",
       "      <th>2</th>\n",
       "      <td>3</td>\n",
       "      <td>RTE01</td>\n",
       "      <td>17:50</td>\n",
       "      <td>0:10</td>\n",
       "      <td>Surgery 1</td>\n",
       "      <td>SO51 8XA</td>\n",
       "    </tr>\n",
       "    <tr>\n",
       "      <th>3</th>\n",
       "      <td>4</td>\n",
       "      <td>RTE01</td>\n",
       "      <td>18:00</td>\n",
       "      <td>0:10</td>\n",
       "      <td>Surgery 5</td>\n",
       "      <td>SO51 8JH</td>\n",
       "    </tr>\n",
       "    <tr>\n",
       "      <th>4</th>\n",
       "      <td>5</td>\n",
       "      <td>RTE01</td>\n",
       "      <td>18:10</td>\n",
       "      <td>0:15</td>\n",
       "      <td>Surgery 63</td>\n",
       "      <td>SO51 7LB</td>\n",
       "    </tr>\n",
       "    <tr>\n",
       "      <th>...</th>\n",
       "      <td>...</td>\n",
       "      <td>...</td>\n",
       "      <td>...</td>\n",
       "      <td>...</td>\n",
       "      <td>...</td>\n",
       "      <td>...</td>\n",
       "    </tr>\n",
       "    <tr>\n",
       "      <th>179</th>\n",
       "      <td>180</td>\n",
       "      <td>RTE10</td>\n",
       "      <td>12:40</td>\n",
       "      <td>0:20</td>\n",
       "      <td>Surgery 36</td>\n",
       "      <td>SO43 7FJ</td>\n",
       "    </tr>\n",
       "    <tr>\n",
       "      <th>180</th>\n",
       "      <td>181</td>\n",
       "      <td>RTE10</td>\n",
       "      <td>13:00</td>\n",
       "      <td>0:05</td>\n",
       "      <td>Surgery 27</td>\n",
       "      <td>SO45 4JG</td>\n",
       "    </tr>\n",
       "    <tr>\n",
       "      <th>181</th>\n",
       "      <td>182</td>\n",
       "      <td>RTE10</td>\n",
       "      <td>13:05</td>\n",
       "      <td>0:05</td>\n",
       "      <td>Surgery 72</td>\n",
       "      <td>SO45 5GQ</td>\n",
       "    </tr>\n",
       "    <tr>\n",
       "      <th>182</th>\n",
       "      <td>183</td>\n",
       "      <td>RTE10</td>\n",
       "      <td>13:10</td>\n",
       "      <td>0:30</td>\n",
       "      <td>Surgery 71</td>\n",
       "      <td>SO45 6AG</td>\n",
       "    </tr>\n",
       "    <tr>\n",
       "      <th>183</th>\n",
       "      <td>184</td>\n",
       "      <td>RTE10</td>\n",
       "      <td>13:40</td>\n",
       "      <td>NaN</td>\n",
       "      <td>SGH Pathology Lab</td>\n",
       "      <td>SO16 6YD</td>\n",
       "    </tr>\n",
       "  </tbody>\n",
       "</table>\n",
       "<p>184 rows × 6 columns</p>\n",
       "</div>"
      ],
      "text/plain": [
       "     Index Route ID Target Time Time to Next Stop               Stop  Postcode\n",
       "0        1    RTE01       17:15              0:15  SGH Pathology Lab  SO16 6YD\n",
       "1        2    RTE01       17:30              0:20         Surgery 61  SO40 3JD\n",
       "2        3    RTE01       17:50              0:10          Surgery 1  SO51 8XA\n",
       "3        4    RTE01       18:00              0:10          Surgery 5  SO51 8JH\n",
       "4        5    RTE01       18:10              0:15         Surgery 63  SO51 7LB\n",
       "..     ...      ...         ...               ...                ...       ...\n",
       "179    180    RTE10       12:40              0:20         Surgery 36  SO43 7FJ\n",
       "180    181    RTE10       13:00              0:05         Surgery 27  SO45 4JG\n",
       "181    182    RTE10       13:05              0:05         Surgery 72  SO45 5GQ\n",
       "182    183    RTE10       13:10              0:30         Surgery 71  SO45 6AG\n",
       "183    184    RTE10       13:40               NaN  SGH Pathology Lab  SO16 6YD\n",
       "\n",
       "[184 rows x 6 columns]"
      ]
     },
     "execution_count": 4,
     "metadata": {},
     "output_type": "execute_result"
    }
   ],
   "source": [
    "df"
   ]
  },
  {
   "cell_type": "code",
   "execution_count": 5,
   "id": "b2fc37e8",
   "metadata": {},
   "outputs": [],
   "source": [
    "# Encoding for model\n",
    "df['route_id'] = df['Route ID'].factorize()[0]\n",
    "df['stop_id'] = df['Stop'].factorize()[0] "
   ]
  },
  {
   "cell_type": "code",
   "execution_count": 6,
   "id": "da194608",
   "metadata": {},
   "outputs": [],
   "source": [
    "df['time'] = pd.to_datetime(df['Target Time']).dt.hour * 60 + pd.to_datetime(df['Target Time']).dt.minute"
   ]
  },
  {
   "cell_type": "code",
   "execution_count": 7,
   "id": "d652caf5",
   "metadata": {},
   "outputs": [],
   "source": [
    "# Training data\n",
    "X = df[['stop_id', 'time']]\n",
    "y = df['route_id']"
   ]
  },
  {
   "cell_type": "code",
   "execution_count": 8,
   "id": "c7c94c8d",
   "metadata": {},
   "outputs": [
    {
     "data": {
      "text/plain": [
       "KNeighborsClassifier()"
      ]
     },
     "execution_count": 8,
     "metadata": {},
     "output_type": "execute_result"
    }
   ],
   "source": [
    "knn = KNeighborsClassifier()\n",
    "knn.fit(X, y)"
   ]
  },
  {
   "cell_type": "code",
   "execution_count": 9,
   "id": "d5ea4a76",
   "metadata": {},
   "outputs": [],
   "source": [
    "postcode_encoder = {'BH25': 1, 'SO16': 2, 'SO32': 3}  # Adjust postcodes as needed"
   ]
  },
  {
   "cell_type": "code",
   "execution_count": 16,
   "id": "109e186f",
   "metadata": {},
   "outputs": [
    {
     "name": "stdout",
     "output_type": "stream",
     "text": [
      "Enter pickups:\n",
      "BH25 5AR 17\n",
      "SO16 5DR 20\n",
      "SO32 2TH 15\n",
      "\n",
      "Predicted route: 1\n"
     ]
    },
    {
     "name": "stderr",
     "output_type": "stream",
     "text": [
      "E:\\Annaconda\\lib\\site-packages\\sklearn\\base.py:450: UserWarning: X does not have valid feature names, but KNeighborsClassifier was fitted with feature names\n",
      "  warnings.warn(\n",
      "E:\\Annaconda\\lib\\site-packages\\sklearn\\neighbors\\_classification.py:228: FutureWarning: Unlike other reduction functions (e.g. `skew`, `kurtosis`), the default behavior of `mode` typically preserves the axis it acts along. In SciPy 1.11.0, this behavior will change: the default value of `keepdims` will become False, the `axis` over which the statistic is taken will be eliminated, and the value None will no longer be accepted. Set `keepdims` to True or False to avoid this warning.\n",
      "  mode, _ = stats.mode(_y[neigh_ind, k], axis=1)\n"
     ]
    }
   ],
   "source": [
    "# Get user input\n",
    "print(\"Enter pickups:\")\n",
    "user_input = []\n",
    "while True:\n",
    "    line = input()\n",
    "    if not line:\n",
    "        break\n",
    "    pickup = line.split()\n",
    "    postcode = pickup[0]  # Extract the postcode\n",
    "    stop_id = ''.join(filter(str.isdigit, pickup[1]))  # Extract only the numeric part\n",
    "    if postcode in postcode_encoder:\n",
    "        user_input.append([postcode_encoder[postcode], int(stop_id)])\n",
    "    else:\n",
    "        print(f\"Postcode '{postcode}' not found in the encoding dictionary. Please check your input.\")\n",
    "\n",
    "# Make prediction\n",
    "prediction = knn.predict([user_input[0]])[0]\n",
    "\n",
    "# Print output\n",
    "print(\"Predicted route:\", prediction)\n"
   ]
  },
  {
   "cell_type": "code",
   "execution_count": null,
   "id": "b2eee79e",
   "metadata": {},
   "outputs": [],
   "source": []
  }
 ],
 "metadata": {
  "kernelspec": {
   "display_name": "Python 3 (ipykernel)",
   "language": "python",
   "name": "python3"
  },
  "language_info": {
   "codemirror_mode": {
    "name": "ipython",
    "version": 3
   },
   "file_extension": ".py",
   "mimetype": "text/x-python",
   "name": "python",
   "nbconvert_exporter": "python",
   "pygments_lexer": "ipython3",
   "version": "3.9.16"
  }
 },
 "nbformat": 4,
 "nbformat_minor": 5
}
