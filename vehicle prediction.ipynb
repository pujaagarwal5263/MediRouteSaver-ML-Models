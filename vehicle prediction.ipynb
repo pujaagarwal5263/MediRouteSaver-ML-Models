{
 "cells": [
  {
   "cell_type": "code",
   "execution_count": 1,
   "id": "cdcc12cf",
   "metadata": {},
   "outputs": [],
   "source": [
    "import pandas as pd"
   ]
  },
  {
   "cell_type": "code",
   "execution_count": 2,
   "id": "9a91c874",
   "metadata": {},
   "outputs": [],
   "source": [
    "df = pd.read_csv('Courier rounds.xlsx - Round_Schedules.csv')"
   ]
  },
  {
   "cell_type": "code",
   "execution_count": 3,
   "id": "9c0c2fee",
   "metadata": {},
   "outputs": [
    {
     "data": {
      "text/html": [
       "<div>\n",
       "<style scoped>\n",
       "    .dataframe tbody tr th:only-of-type {\n",
       "        vertical-align: middle;\n",
       "    }\n",
       "\n",
       "    .dataframe tbody tr th {\n",
       "        vertical-align: top;\n",
       "    }\n",
       "\n",
       "    .dataframe thead th {\n",
       "        text-align: right;\n",
       "    }\n",
       "</style>\n",
       "<table border=\"1\" class=\"dataframe\">\n",
       "  <thead>\n",
       "    <tr style=\"text-align: right;\">\n",
       "      <th></th>\n",
       "      <th>Index</th>\n",
       "      <th>Round ID</th>\n",
       "      <th>Vehicle ID</th>\n",
       "      <th>Time</th>\n",
       "      <th>Location</th>\n",
       "      <th>Postcode</th>\n",
       "      <th>Task</th>\n",
       "    </tr>\n",
       "  </thead>\n",
       "  <tbody>\n",
       "    <tr>\n",
       "      <th>0</th>\n",
       "      <td>1</td>\n",
       "      <td>Rnd_01</td>\n",
       "      <td>Veh_01</td>\n",
       "      <td>7:30</td>\n",
       "      <td>Loc_101</td>\n",
       "      <td>SO30 2UT</td>\n",
       "      <td>Daily van check</td>\n",
       "    </tr>\n",
       "    <tr>\n",
       "      <th>1</th>\n",
       "      <td>2</td>\n",
       "      <td>Rnd_01</td>\n",
       "      <td>Veh_01</td>\n",
       "      <td>7:45</td>\n",
       "      <td>Loc_071</td>\n",
       "      <td>SO14 7NR</td>\n",
       "      <td>Deliver/Collect post</td>\n",
       "    </tr>\n",
       "    <tr>\n",
       "      <th>2</th>\n",
       "      <td>3</td>\n",
       "      <td>Rnd_01</td>\n",
       "      <td>Veh_01</td>\n",
       "      <td>7:50</td>\n",
       "      <td>Depot</td>\n",
       "      <td>SO14 5FE</td>\n",
       "      <td>Deliver/Collect post</td>\n",
       "    </tr>\n",
       "    <tr>\n",
       "      <th>3</th>\n",
       "      <td>4</td>\n",
       "      <td>Rnd_01</td>\n",
       "      <td>Veh_01</td>\n",
       "      <td>8:15</td>\n",
       "      <td>Loc_020</td>\n",
       "      <td>SO15 0AE</td>\n",
       "      <td>Deliver/Collect post</td>\n",
       "    </tr>\n",
       "    <tr>\n",
       "      <th>4</th>\n",
       "      <td>5</td>\n",
       "      <td>Rnd_01</td>\n",
       "      <td>Veh_01</td>\n",
       "      <td>8:20</td>\n",
       "      <td>Loc_028</td>\n",
       "      <td>SO15 0AE</td>\n",
       "      <td>Deliver/Collect post</td>\n",
       "    </tr>\n",
       "    <tr>\n",
       "      <th>...</th>\n",
       "      <td>...</td>\n",
       "      <td>...</td>\n",
       "      <td>...</td>\n",
       "      <td>...</td>\n",
       "      <td>...</td>\n",
       "      <td>...</td>\n",
       "      <td>...</td>\n",
       "    </tr>\n",
       "    <tr>\n",
       "      <th>95</th>\n",
       "      <td>96</td>\n",
       "      <td>Rnd_05</td>\n",
       "      <td>Veh_05</td>\n",
       "      <td>12:25</td>\n",
       "      <td>Loc_008</td>\n",
       "      <td>SO18 1NT</td>\n",
       "      <td>Collect dinners</td>\n",
       "    </tr>\n",
       "    <tr>\n",
       "      <th>96</th>\n",
       "      <td>97</td>\n",
       "      <td>Rnd_05</td>\n",
       "      <td>Veh_05</td>\n",
       "      <td>12:45</td>\n",
       "      <td>Loc_056</td>\n",
       "      <td>SO18 5NG</td>\n",
       "      <td>Deliver dinners</td>\n",
       "    </tr>\n",
       "    <tr>\n",
       "      <th>97</th>\n",
       "      <td>98</td>\n",
       "      <td>Rnd_05</td>\n",
       "      <td>Veh_05</td>\n",
       "      <td>13:05</td>\n",
       "      <td>Depot</td>\n",
       "      <td>SO14 5FE</td>\n",
       "      <td>Break/Charge van</td>\n",
       "    </tr>\n",
       "    <tr>\n",
       "      <th>98</th>\n",
       "      <td>99</td>\n",
       "      <td>Rnd_05</td>\n",
       "      <td>Veh_05</td>\n",
       "      <td>13:35</td>\n",
       "      <td>Spare time</td>\n",
       "      <td>NaN</td>\n",
       "      <td>Spare time</td>\n",
       "    </tr>\n",
       "    <tr>\n",
       "      <th>99</th>\n",
       "      <td>100</td>\n",
       "      <td>Rnd_05</td>\n",
       "      <td>Veh_05</td>\n",
       "      <td>16:30</td>\n",
       "      <td>Depot</td>\n",
       "      <td>SO14 5FE</td>\n",
       "      <td>Finish</td>\n",
       "    </tr>\n",
       "  </tbody>\n",
       "</table>\n",
       "<p>100 rows × 7 columns</p>\n",
       "</div>"
      ],
      "text/plain": [
       "    Index Round ID Vehicle ID   Time    Location  Postcode   \n",
       "0       1   Rnd_01     Veh_01   7:30     Loc_101  SO30 2UT  \\\n",
       "1       2   Rnd_01     Veh_01   7:45     Loc_071  SO14 7NR   \n",
       "2       3   Rnd_01     Veh_01   7:50       Depot  SO14 5FE   \n",
       "3       4   Rnd_01     Veh_01   8:15     Loc_020  SO15 0AE   \n",
       "4       5   Rnd_01     Veh_01   8:20     Loc_028  SO15 0AE   \n",
       "..    ...      ...        ...    ...         ...       ...   \n",
       "95     96   Rnd_05     Veh_05  12:25     Loc_008  SO18 1NT   \n",
       "96     97   Rnd_05     Veh_05  12:45     Loc_056  SO18 5NG   \n",
       "97     98   Rnd_05     Veh_05  13:05       Depot  SO14 5FE   \n",
       "98     99   Rnd_05     Veh_05  13:35  Spare time       NaN   \n",
       "99    100   Rnd_05     Veh_05  16:30       Depot  SO14 5FE   \n",
       "\n",
       "                    Task  \n",
       "0        Daily van check  \n",
       "1   Deliver/Collect post  \n",
       "2   Deliver/Collect post  \n",
       "3   Deliver/Collect post  \n",
       "4   Deliver/Collect post  \n",
       "..                   ...  \n",
       "95       Collect dinners  \n",
       "96       Deliver dinners  \n",
       "97      Break/Charge van  \n",
       "98            Spare time  \n",
       "99                Finish  \n",
       "\n",
       "[100 rows x 7 columns]"
      ]
     },
     "execution_count": 3,
     "metadata": {},
     "output_type": "execute_result"
    }
   ],
   "source": [
    "df"
   ]
  },
  {
   "cell_type": "code",
   "execution_count": 4,
   "id": "d13c9898",
   "metadata": {},
   "outputs": [],
   "source": [
    "tasks = df['Task'].unique()"
   ]
  },
  {
   "cell_type": "code",
   "execution_count": 5,
   "id": "46e75d72",
   "metadata": {},
   "outputs": [
    {
     "name": "stdout",
     "output_type": "stream",
     "text": [
      "Unique Tasks:\n",
      "Daily van check\n",
      "Deliver/Collect post\n",
      "Break/Charge van\n",
      "Collect dinners (x2)\n",
      "Deliver dinners\n",
      "Lunch\n",
      "Collect dinners\n",
      "Deliver dinners (x2)\n",
      "Collect samples\n",
      "Deliver samples\n",
      "Spare time\n",
      "Finish\n",
      "Daily Van Check\n",
      "Collect dinners \n",
      "Deliver dinners \n"
     ]
    }
   ],
   "source": [
    "print(\"Unique Tasks:\")\n",
    "for task in tasks:\n",
    "    print(task)"
   ]
  },
  {
   "cell_type": "markdown",
   "id": "fd2ecee4",
   "metadata": {},
   "source": [
    "# Count tasks"
   ]
  },
  {
   "cell_type": "code",
   "execution_count": 6,
   "id": "2b742959",
   "metadata": {},
   "outputs": [
    {
     "name": "stdout",
     "output_type": "stream",
     "text": [
      "\n",
      "Task Counts:\n",
      "Task\n",
      "Deliver/Collect post    43\n",
      "Break/Charge van         9\n",
      "Deliver dinners          9\n",
      "Collect dinners          9\n",
      "Spare time               7\n",
      "Lunch                    5\n",
      "Finish                   5\n",
      "Daily van check          3\n",
      "Collect dinners (x2)     2\n",
      "Deliver dinners (x2)     2\n",
      "Daily Van Check          2\n",
      "Collect samples          1\n",
      "Deliver samples          1\n",
      "Collect dinners          1\n",
      "Deliver dinners          1\n",
      "Name: count, dtype: int64\n"
     ]
    }
   ],
   "source": [
    "task_counts = df['Task'].value_counts()\n",
    "print(\"\\nTask Counts:\")\n",
    "print(task_counts)"
   ]
  },
  {
   "cell_type": "markdown",
   "id": "535c9dd4",
   "metadata": {},
   "source": [
    "# Task frequency"
   ]
  },
  {
   "cell_type": "code",
   "execution_count": 8,
   "id": "01073861",
   "metadata": {},
   "outputs": [
    {
     "name": "stdout",
     "output_type": "stream",
     "text": [
      "Deliver/Collect post: 43.0% tasks\n",
      "Break/Charge van: 9.0% tasks\n",
      "Deliver dinners: 9.0% tasks\n",
      "Collect dinners: 9.0% tasks\n",
      "Spare time: 7.0% tasks\n",
      "Lunch: 5.0% tasks\n",
      "Finish: 5.0% tasks\n",
      "Daily van check: 3.0% tasks\n",
      "Collect dinners (x2): 2.0% tasks\n",
      "Deliver dinners (x2): 2.0% tasks\n",
      "Daily Van Check: 2.0% tasks\n",
      "Collect samples: 1.0% tasks\n",
      "Deliver samples: 1.0% tasks\n",
      "Collect dinners : 1.0% tasks\n",
      "Deliver dinners : 1.0% tasks\n"
     ]
    }
   ],
   "source": [
    "total_tasks = len(df)\n",
    "for task, count in task_counts.items():\n",
    "    print(f\"{task}: {round(count/total_tasks*100, 2)}% tasks\")"
   ]
  },
  {
   "cell_type": "markdown",
   "id": "adf78f38",
   "metadata": {},
   "source": [
    "# Vehicle and task analysis"
   ]
  },
  {
   "cell_type": "code",
   "execution_count": 9,
   "id": "7a427981",
   "metadata": {},
   "outputs": [
    {
     "name": "stdout",
     "output_type": "stream",
     "text": [
      "\n",
      "Vehicle Tasks:\n",
      "\n",
      "Veh_01 tasks:\n",
      "Task\n",
      "Deliver/Collect post    15\n",
      "Deliver dinners          2\n",
      "Collect dinners          2\n",
      "Daily van check          1\n",
      "Break/Charge van         1\n",
      "Collect dinners (x2)     1\n",
      "Lunch                    1\n",
      "Deliver dinners (x2)     1\n",
      "Collect samples          1\n",
      "Deliver samples          1\n",
      "Spare time               1\n",
      "Finish                   1\n",
      "Name: count, dtype: int64\n",
      "\n",
      "Veh_02 tasks:\n",
      "Task\n",
      "Deliver/Collect post    9\n",
      "Break/Charge van        2\n",
      "Deliver dinners         2\n",
      "Collect dinners         2\n",
      "Daily van check         1\n",
      "Collect dinners (x2)    1\n",
      "Lunch                   1\n",
      "Deliver dinners (x2)    1\n",
      "Spare time              1\n",
      "Finish                  1\n",
      "Name: count, dtype: int64\n",
      "\n",
      "Veh_03 tasks:\n",
      "Task\n",
      "Deliver/Collect post    8\n",
      "Break/Charge van        2\n",
      "Collect dinners         2\n",
      "Deliver dinners         2\n",
      "Daily Van Check         1\n",
      "Lunch                   1\n",
      "Spare time              1\n",
      "Finish                  1\n",
      "Name: count, dtype: int64\n",
      "\n",
      "Veh_04 tasks:\n",
      "Task\n",
      "Deliver/Collect post    7\n",
      "Break/Charge van        2\n",
      "Spare time              2\n",
      "Daily Van Check         1\n",
      "Collect dinners         1\n",
      "Deliver dinners         1\n",
      "Lunch                   1\n",
      "Collect dinners         1\n",
      "Deliver dinners         1\n",
      "Finish                  1\n",
      "Name: count, dtype: int64\n",
      "\n",
      "Veh_05 tasks:\n",
      "Task\n",
      "Deliver/Collect post    4\n",
      "Break/Charge van        2\n",
      "Spare time              2\n",
      "Collect dinners         2\n",
      "Deliver dinners         2\n",
      "Daily van check         1\n",
      "Lunch                   1\n",
      "Finish                  1\n",
      "Name: count, dtype: int64\n"
     ]
    }
   ],
   "source": [
    "# Vehicle and task analysis\n",
    "print(\"\\nVehicle Tasks:\")\n",
    "for vehicle_id in df['Vehicle ID'].unique():\n",
    "    temp_df = df[df['Vehicle ID'] == vehicle_id]\n",
    "    print(f\"\\n{vehicle_id} tasks:\") \n",
    "    print(temp_df['Task'].value_counts())"
   ]
  },
  {
   "cell_type": "markdown",
   "id": "23f027a4",
   "metadata": {},
   "source": [
    "# Vehicle capacities  "
   ]
  },
  {
   "cell_type": "code",
   "execution_count": 10,
   "id": "81947fde",
   "metadata": {},
   "outputs": [],
   "source": [
    "vehicle_details = {\n",
    "   'Veh_01': {'max_samples': 50, 'patient_capacity': 2},\n",
    "   'Veh_02': {'max_samples': 60, 'patient_capacity': 1}, \n",
    "   'Veh_03': {'max_samples': 80, 'patient_capacity': 3}\n",
    "}"
   ]
  },
  {
   "cell_type": "markdown",
   "id": "380cfbdb",
   "metadata": {},
   "source": [
    "#  Sample input task details"
   ]
  },
  {
   "cell_type": "code",
   "execution_count": 11,
   "id": "5826c283",
   "metadata": {},
   "outputs": [],
   "source": [
    "# Sample input task details\n",
    "task_type = 'Collect samples'  \n",
    "num_samples = 65\n",
    "patient_needed = False"
   ]
  },
  {
   "cell_type": "markdown",
   "id": "ed09bfd8",
   "metadata": {},
   "source": [
    "# Find matching vehicles"
   ]
  },
  {
   "cell_type": "code",
   "execution_count": 12,
   "id": "5e26dcda",
   "metadata": {},
   "outputs": [],
   "source": [
    "matching_vehicles = [] \n",
    "\n",
    "for vehicle_id, details in vehicle_details.items():\n",
    "    if num_samples <= details['max_samples']:\n",
    "        if patient_needed == False or details['patient_capacity'] > 0:\n",
    "            matching_vehicles.append(vehicle_id)"
   ]
  },
  {
   "cell_type": "markdown",
   "id": "6e57f8b6",
   "metadata": {},
   "source": [
    "# Print vehicle prediction    "
   ]
  },
  {
   "cell_type": "code",
   "execution_count": 13,
   "id": "d79891d2",
   "metadata": {},
   "outputs": [
    {
     "name": "stdout",
     "output_type": "stream",
     "text": [
      "For task: Collect samples with 65 samples, suggested vehicles are: ['Veh_03']\n"
     ]
    }
   ],
   "source": [
    "print(f\"For task: {task_type} with {num_samples} samples, suggested vehicles are: {matching_vehicles}\")"
   ]
  }
 ],
 "metadata": {
  "kernelspec": {
   "display_name": "Python 3 (ipykernel)",
   "language": "python",
   "name": "python3"
  },
  "language_info": {
   "codemirror_mode": {
    "name": "ipython",
    "version": 3
   },
   "file_extension": ".py",
   "mimetype": "text/x-python",
   "name": "python",
   "nbconvert_exporter": "python",
   "pygments_lexer": "ipython3",
   "version": "3.9.16"
  }
 },
 "nbformat": 4,
 "nbformat_minor": 5
}
