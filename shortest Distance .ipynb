{
 "cells": [
  {
   "cell_type": "code",
   "execution_count": 1,
   "id": "2e6ba6c0",
   "metadata": {},
   "outputs": [],
   "source": [
    "import pandas as pd\n",
    "from sklearn.neighbors import KNeighborsClassifier"
   ]
  },
  {
   "cell_type": "code",
   "execution_count": 2,
   "id": "8785bdb7",
   "metadata": {},
   "outputs": [],
   "source": [
    "df=pd.read_csv('Path sample gen.xlsx - Vehicle Routes.csv')"
   ]
  },
  {
   "cell_type": "code",
   "execution_count": 3,
   "id": "ce7a7f6b",
   "metadata": {},
   "outputs": [
    {
     "data": {
      "text/html": [
       "<div>\n",
       "<style scoped>\n",
       "    .dataframe tbody tr th:only-of-type {\n",
       "        vertical-align: middle;\n",
       "    }\n",
       "\n",
       "    .dataframe tbody tr th {\n",
       "        vertical-align: top;\n",
       "    }\n",
       "\n",
       "    .dataframe thead th {\n",
       "        text-align: right;\n",
       "    }\n",
       "</style>\n",
       "<table border=\"1\" class=\"dataframe\">\n",
       "  <thead>\n",
       "    <tr style=\"text-align: right;\">\n",
       "      <th></th>\n",
       "      <th>Index</th>\n",
       "      <th>Route ID</th>\n",
       "      <th>Target Time</th>\n",
       "      <th>Time to Next Stop</th>\n",
       "      <th>Stop</th>\n",
       "      <th>Postcode</th>\n",
       "    </tr>\n",
       "  </thead>\n",
       "  <tbody>\n",
       "    <tr>\n",
       "      <th>0</th>\n",
       "      <td>1</td>\n",
       "      <td>RTE01</td>\n",
       "      <td>17:15</td>\n",
       "      <td>0:15</td>\n",
       "      <td>SGH Pathology Lab</td>\n",
       "      <td>SO16 6YD</td>\n",
       "    </tr>\n",
       "    <tr>\n",
       "      <th>1</th>\n",
       "      <td>2</td>\n",
       "      <td>RTE01</td>\n",
       "      <td>17:30</td>\n",
       "      <td>0:20</td>\n",
       "      <td>Surgery 61</td>\n",
       "      <td>SO40 3JD</td>\n",
       "    </tr>\n",
       "    <tr>\n",
       "      <th>2</th>\n",
       "      <td>3</td>\n",
       "      <td>RTE01</td>\n",
       "      <td>17:50</td>\n",
       "      <td>0:10</td>\n",
       "      <td>Surgery 1</td>\n",
       "      <td>SO51 8XA</td>\n",
       "    </tr>\n",
       "    <tr>\n",
       "      <th>3</th>\n",
       "      <td>4</td>\n",
       "      <td>RTE01</td>\n",
       "      <td>18:00</td>\n",
       "      <td>0:10</td>\n",
       "      <td>Surgery 5</td>\n",
       "      <td>SO51 8JH</td>\n",
       "    </tr>\n",
       "    <tr>\n",
       "      <th>4</th>\n",
       "      <td>5</td>\n",
       "      <td>RTE01</td>\n",
       "      <td>18:10</td>\n",
       "      <td>0:15</td>\n",
       "      <td>Surgery 63</td>\n",
       "      <td>SO51 7LB</td>\n",
       "    </tr>\n",
       "    <tr>\n",
       "      <th>...</th>\n",
       "      <td>...</td>\n",
       "      <td>...</td>\n",
       "      <td>...</td>\n",
       "      <td>...</td>\n",
       "      <td>...</td>\n",
       "      <td>...</td>\n",
       "    </tr>\n",
       "    <tr>\n",
       "      <th>179</th>\n",
       "      <td>180</td>\n",
       "      <td>RTE10</td>\n",
       "      <td>12:40</td>\n",
       "      <td>0:20</td>\n",
       "      <td>Surgery 36</td>\n",
       "      <td>SO43 7FJ</td>\n",
       "    </tr>\n",
       "    <tr>\n",
       "      <th>180</th>\n",
       "      <td>181</td>\n",
       "      <td>RTE10</td>\n",
       "      <td>13:00</td>\n",
       "      <td>0:05</td>\n",
       "      <td>Surgery 27</td>\n",
       "      <td>SO45 4JG</td>\n",
       "    </tr>\n",
       "    <tr>\n",
       "      <th>181</th>\n",
       "      <td>182</td>\n",
       "      <td>RTE10</td>\n",
       "      <td>13:05</td>\n",
       "      <td>0:05</td>\n",
       "      <td>Surgery 72</td>\n",
       "      <td>SO45 5GQ</td>\n",
       "    </tr>\n",
       "    <tr>\n",
       "      <th>182</th>\n",
       "      <td>183</td>\n",
       "      <td>RTE10</td>\n",
       "      <td>13:10</td>\n",
       "      <td>0:30</td>\n",
       "      <td>Surgery 71</td>\n",
       "      <td>SO45 6AG</td>\n",
       "    </tr>\n",
       "    <tr>\n",
       "      <th>183</th>\n",
       "      <td>184</td>\n",
       "      <td>RTE10</td>\n",
       "      <td>13:40</td>\n",
       "      <td>NaN</td>\n",
       "      <td>SGH Pathology Lab</td>\n",
       "      <td>SO16 6YD</td>\n",
       "    </tr>\n",
       "  </tbody>\n",
       "</table>\n",
       "<p>184 rows × 6 columns</p>\n",
       "</div>"
      ],
      "text/plain": [
       "     Index Route ID Target Time Time to Next Stop               Stop  Postcode\n",
       "0        1    RTE01       17:15              0:15  SGH Pathology Lab  SO16 6YD\n",
       "1        2    RTE01       17:30              0:20         Surgery 61  SO40 3JD\n",
       "2        3    RTE01       17:50              0:10          Surgery 1  SO51 8XA\n",
       "3        4    RTE01       18:00              0:10          Surgery 5  SO51 8JH\n",
       "4        5    RTE01       18:10              0:15         Surgery 63  SO51 7LB\n",
       "..     ...      ...         ...               ...                ...       ...\n",
       "179    180    RTE10       12:40              0:20         Surgery 36  SO43 7FJ\n",
       "180    181    RTE10       13:00              0:05         Surgery 27  SO45 4JG\n",
       "181    182    RTE10       13:05              0:05         Surgery 72  SO45 5GQ\n",
       "182    183    RTE10       13:10              0:30         Surgery 71  SO45 6AG\n",
       "183    184    RTE10       13:40               NaN  SGH Pathology Lab  SO16 6YD\n",
       "\n",
       "[184 rows x 6 columns]"
      ]
     },
     "execution_count": 3,
     "metadata": {},
     "output_type": "execute_result"
    }
   ],
   "source": [
    "df"
   ]
  },
  {
   "cell_type": "code",
   "execution_count": 18,
   "id": "9ac4ed61",
   "metadata": {},
   "outputs": [],
   "source": [
    "df = df.fillna('')"
   ]
  },
  {
   "cell_type": "code",
   "execution_count": 19,
   "id": "a6214585",
   "metadata": {},
   "outputs": [],
   "source": [
    "df['route_id'] = df['Route ID'].factorize()[0]  \n",
    "df['stop_id'] = df['Stop'].factorize()[0]"
   ]
  },
  {
   "cell_type": "code",
   "execution_count": 20,
   "id": "5a52435e",
   "metadata": {},
   "outputs": [],
   "source": [
    "df['Target Time'] = df['Target Time'].str.replace(':','')"
   ]
  },
  {
   "cell_type": "code",
   "execution_count": 21,
   "id": "a2966862",
   "metadata": {},
   "outputs": [],
   "source": [
    "df['hours'] = df['Target Time'].str[:2].astype(int) "
   ]
  },
  {
   "cell_type": "code",
   "execution_count": 22,
   "id": "8f17654e",
   "metadata": {},
   "outputs": [],
   "source": [
    "X = df[['stop_id','hours']]   \n",
    "y = df['route_id']"
   ]
  },
  {
   "cell_type": "code",
   "execution_count": 23,
   "id": "88cb7af0",
   "metadata": {},
   "outputs": [
    {
     "data": {
      "text/html": [
       "<style>#sk-container-id-2 {color: black;background-color: white;}#sk-container-id-2 pre{padding: 0;}#sk-container-id-2 div.sk-toggleable {background-color: white;}#sk-container-id-2 label.sk-toggleable__label {cursor: pointer;display: block;width: 100%;margin-bottom: 0;padding: 0.3em;box-sizing: border-box;text-align: center;}#sk-container-id-2 label.sk-toggleable__label-arrow:before {content: \"▸\";float: left;margin-right: 0.25em;color: #696969;}#sk-container-id-2 label.sk-toggleable__label-arrow:hover:before {color: black;}#sk-container-id-2 div.sk-estimator:hover label.sk-toggleable__label-arrow:before {color: black;}#sk-container-id-2 div.sk-toggleable__content {max-height: 0;max-width: 0;overflow: hidden;text-align: left;background-color: #f0f8ff;}#sk-container-id-2 div.sk-toggleable__content pre {margin: 0.2em;color: black;border-radius: 0.25em;background-color: #f0f8ff;}#sk-container-id-2 input.sk-toggleable__control:checked~div.sk-toggleable__content {max-height: 200px;max-width: 100%;overflow: auto;}#sk-container-id-2 input.sk-toggleable__control:checked~label.sk-toggleable__label-arrow:before {content: \"▾\";}#sk-container-id-2 div.sk-estimator input.sk-toggleable__control:checked~label.sk-toggleable__label {background-color: #d4ebff;}#sk-container-id-2 div.sk-label input.sk-toggleable__control:checked~label.sk-toggleable__label {background-color: #d4ebff;}#sk-container-id-2 input.sk-hidden--visually {border: 0;clip: rect(1px 1px 1px 1px);clip: rect(1px, 1px, 1px, 1px);height: 1px;margin: -1px;overflow: hidden;padding: 0;position: absolute;width: 1px;}#sk-container-id-2 div.sk-estimator {font-family: monospace;background-color: #f0f8ff;border: 1px dotted black;border-radius: 0.25em;box-sizing: border-box;margin-bottom: 0.5em;}#sk-container-id-2 div.sk-estimator:hover {background-color: #d4ebff;}#sk-container-id-2 div.sk-parallel-item::after {content: \"\";width: 100%;border-bottom: 1px solid gray;flex-grow: 1;}#sk-container-id-2 div.sk-label:hover label.sk-toggleable__label {background-color: #d4ebff;}#sk-container-id-2 div.sk-serial::before {content: \"\";position: absolute;border-left: 1px solid gray;box-sizing: border-box;top: 0;bottom: 0;left: 50%;z-index: 0;}#sk-container-id-2 div.sk-serial {display: flex;flex-direction: column;align-items: center;background-color: white;padding-right: 0.2em;padding-left: 0.2em;position: relative;}#sk-container-id-2 div.sk-item {position: relative;z-index: 1;}#sk-container-id-2 div.sk-parallel {display: flex;align-items: stretch;justify-content: center;background-color: white;position: relative;}#sk-container-id-2 div.sk-item::before, #sk-container-id-2 div.sk-parallel-item::before {content: \"\";position: absolute;border-left: 1px solid gray;box-sizing: border-box;top: 0;bottom: 0;left: 50%;z-index: -1;}#sk-container-id-2 div.sk-parallel-item {display: flex;flex-direction: column;z-index: 1;position: relative;background-color: white;}#sk-container-id-2 div.sk-parallel-item:first-child::after {align-self: flex-end;width: 50%;}#sk-container-id-2 div.sk-parallel-item:last-child::after {align-self: flex-start;width: 50%;}#sk-container-id-2 div.sk-parallel-item:only-child::after {width: 0;}#sk-container-id-2 div.sk-dashed-wrapped {border: 1px dashed gray;margin: 0 0.4em 0.5em 0.4em;box-sizing: border-box;padding-bottom: 0.4em;background-color: white;}#sk-container-id-2 div.sk-label label {font-family: monospace;font-weight: bold;display: inline-block;line-height: 1.2em;}#sk-container-id-2 div.sk-label-container {text-align: center;}#sk-container-id-2 div.sk-container {/* jupyter's `normalize.less` sets `[hidden] { display: none; }` but bootstrap.min.css set `[hidden] { display: none !important; }` so we also need the `!important` here to be able to override the default hidden behavior on the sphinx rendered scikit-learn.org. See: https://github.com/scikit-learn/scikit-learn/issues/21755 */display: inline-block !important;position: relative;}#sk-container-id-2 div.sk-text-repr-fallback {display: none;}</style><div id=\"sk-container-id-2\" class=\"sk-top-container\"><div class=\"sk-text-repr-fallback\"><pre>KNeighborsClassifier()</pre><b>In a Jupyter environment, please rerun this cell to show the HTML representation or trust the notebook. <br />On GitHub, the HTML representation is unable to render, please try loading this page with nbviewer.org.</b></div><div class=\"sk-container\" hidden><div class=\"sk-item\"><div class=\"sk-estimator sk-toggleable\"><input class=\"sk-toggleable__control sk-hidden--visually\" id=\"sk-estimator-id-2\" type=\"checkbox\" checked><label for=\"sk-estimator-id-2\" class=\"sk-toggleable__label sk-toggleable__label-arrow\">KNeighborsClassifier</label><div class=\"sk-toggleable__content\"><pre>KNeighborsClassifier()</pre></div></div></div></div></div>"
      ],
      "text/plain": [
       "KNeighborsClassifier()"
      ]
     },
     "execution_count": 23,
     "metadata": {},
     "output_type": "execute_result"
    }
   ],
   "source": [
    "knn = KNeighborsClassifier()\n",
    "knn.fit(X, y)"
   ]
  },
  {
   "cell_type": "code",
   "execution_count": 24,
   "id": "15203f0e",
   "metadata": {},
   "outputs": [],
   "source": [
    "encoder = {df['Stop'][i]:i for i in range(len(df['Stop']))}"
   ]
  },
  {
   "cell_type": "code",
   "execution_count": 25,
   "id": "a7ab2360",
   "metadata": {},
   "outputs": [],
   "source": [
    "input_list = line.split()\n",
    "code = input_list[0]  \n",
    "time = input_list[1]"
   ]
  },
  {
   "cell_type": "code",
   "execution_count": 27,
   "id": "ca0003f0",
   "metadata": {},
   "outputs": [
    {
     "name": "stdout",
     "output_type": "stream",
     "text": [
      "Received input: SO16 6YD 08:30\n"
     ]
    }
   ],
   "source": [
    "print(f\"Received input: {line}\")"
   ]
  },
  {
   "cell_type": "code",
   "execution_count": 35,
   "id": "63d36f05",
   "metadata": {},
   "outputs": [
    {
     "name": "stdout",
     "output_type": "stream",
     "text": [
      "Enter pickup postcode and time:\n",
      "SO16 6YD 08:30\n",
      "Invalid input. Please enter the pickup postcode and time in the correct format.\n",
      "\n",
      "No valid input provided.\n"
     ]
    }
   ],
   "source": [
    "print(\"Enter pickup postcode and time:\")\n",
    "pickups = []\n",
    "while True:\n",
    "    line = input()\n",
    "    if not line:\n",
    "        break\n",
    "    \n",
    "    # Extract postcode and time from input        \n",
    "    m = re.match(r\"([A-Z]+\\d+\\s[A-Z]+) (\\d\\d:\\d\\d)\", line)\n",
    "    \n",
    "    # Check if the match is successful\n",
    "    if m:\n",
    "        code = m.group(1)\n",
    "        hours = int(m.group(2)[:2])\n",
    "        \n",
    "        # Append pickup  \n",
    "        pickups.append([encoder[code], hours])\n",
    "    else:\n",
    "        print(\"Invalid input. Please enter the pickup postcode and time in the correct format.\")\n",
    "\n",
    "# Make prediction\n",
    "if pickups:\n",
    "    prediction = knn.predict([x[1] for x in pickups])[0]  \n",
    "    print(\"Predicted route:\", prediction)\n",
    "else:\n",
    "    print(\"No valid input provided.\")"
   ]
  },
  {
   "cell_type": "code",
   "execution_count": 38,
   "id": "f8fc715f",
   "metadata": {},
   "outputs": [
    {
     "name": "stdout",
     "output_type": "stream",
     "text": [
      "Requirement already satisfied: networkx in e:\\annaconda\\envs\\gpu_module\\lib\\site-packages (3.1)\n",
      "Note: you may need to restart the kernel to use updated packages.\n"
     ]
    }
   ],
   "source": [
    "pip install networkx"
   ]
  },
  {
   "cell_type": "code",
   "execution_count": 39,
   "id": "485f8670",
   "metadata": {},
   "outputs": [],
   "source": [
    "import pandas as pd\n",
    "import networkx as nx"
   ]
  },
  {
   "cell_type": "code",
   "execution_count": 40,
   "id": "ae470157",
   "metadata": {},
   "outputs": [],
   "source": [
    "G = nx.Graph()"
   ]
  },
  {
   "cell_type": "code",
   "execution_count": 46,
   "id": "5c9c259f",
   "metadata": {},
   "outputs": [
    {
     "name": "stdout",
     "output_type": "stream",
     "text": [
      "Enter starting stop and ending stop:\n",
      "Starting stop: SGH Pathology Lab\n",
      "Ending stop: Surgery 63\n",
      "Shortest path: ['SGH Pathology Lab', 'Surgery 63']\n",
      "Shortest distance: 20\n"
     ]
    }
   ],
   "source": [
    "for route_id, route_data in df.groupby('Route ID'):\n",
    "    stops = route_data['Stop'].tolist()\n",
    "    for i in range(len(stops) - 1):\n",
    "        stop1, stop2 = stops[i], stops[i+1]\n",
    "        time_to_next_stop = route_data.iloc[i]['Time to Next Stop']\n",
    "        \n",
    "        # Convert time format '0:15' to total minutes\n",
    "        hours, minutes = map(int, time_to_next_stop.split(':'))\n",
    "        total_minutes = hours * 60 + minutes\n",
    "\n",
    "        G.add_edge(stop1, stop2, weight=total_minutes)\n",
    "\n",
    "# Get user input\n",
    "print(\"Enter starting stop and ending stop:\")\n",
    "start_stop = input(\"Starting stop: \")\n",
    "end_stop = input(\"Ending stop: \")\n",
    "\n",
    "# Check if the stops are in the graph\n",
    "if start_stop not in G.nodes or end_stop not in G.nodes:\n",
    "    print(\"Invalid stops. Please enter valid stops.\")\n",
    "else:\n",
    "    # Find the shortest path\n",
    "    shortest_path = nx.shortest_path(G, source=start_stop, target=end_stop, weight='weight')\n",
    "    shortest_distance = nx.shortest_path_length(G, source=start_stop, target=end_stop, weight='weight')\n",
    "\n",
    "    print(\"Shortest path:\", shortest_path)\n",
    "    print(\"Shortest distance:\", shortest_distance)"
   ]
  },
  {
   "cell_type": "code",
   "execution_count": null,
   "id": "7bea33bb",
   "metadata": {},
   "outputs": [],
   "source": []
  }
 ],
 "metadata": {
  "kernelspec": {
   "display_name": "Python 3 (ipykernel)",
   "language": "python",
   "name": "python3"
  },
  "language_info": {
   "codemirror_mode": {
    "name": "ipython",
    "version": 3
   },
   "file_extension": ".py",
   "mimetype": "text/x-python",
   "name": "python",
   "nbconvert_exporter": "python",
   "pygments_lexer": "ipython3",
   "version": "3.9.16"
  }
 },
 "nbformat": 4,
 "nbformat_minor": 5
}
